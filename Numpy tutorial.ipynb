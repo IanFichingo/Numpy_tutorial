{
 "cells": [
  {
   "cell_type": "markdown",
   "id": "5ae0facf",
   "metadata": {},
   "source": [
    "## Creating Basic Arrays"
   ]
  },
  {
   "cell_type": "code",
   "execution_count": 1,
   "id": "218085aa",
   "metadata": {},
   "outputs": [],
   "source": [
    "# import the numpy library\n",
    "import numpy as np"
   ]
  },
  {
   "cell_type": "code",
   "execution_count": 2,
   "id": "e8e47912",
   "metadata": {},
   "outputs": [
    {
     "name": "stdout",
     "output_type": "stream",
     "text": [
      "[3 4 5]\n"
     ]
    }
   ],
   "source": [
    "# 1d array\n",
    "x1 = np.array([3,4,5])\n",
    "print(x1)"
   ]
  },
  {
   "cell_type": "code",
   "execution_count": 3,
   "id": "e1022780",
   "metadata": {},
   "outputs": [
    {
     "name": "stdout",
     "output_type": "stream",
     "text": [
      "[[3 4 5]\n",
      " [6 7 8]]\n"
     ]
    }
   ],
   "source": [
    "# 2d array\n",
    "x2 = np.array([[3,4,5], [6,7,8]])\n",
    "print(x2)"
   ]
  },
  {
   "cell_type": "code",
   "execution_count": 11,
   "id": "8ea343c8",
   "metadata": {},
   "outputs": [
    {
     "name": "stdout",
     "output_type": "stream",
     "text": [
      "[[[ 3  4  5]\n",
      "  [ 6  7  8]\n",
      "  [ 9 10 11]]]\n"
     ]
    }
   ],
   "source": [
    "# 3d array\n",
    "x3 = np.array([[[3,4,5], [6,7,8], [9,10,11]]])\n",
    "print(x3)"
   ]
  },
  {
   "cell_type": "markdown",
   "id": "79d4b463",
   "metadata": {},
   "source": [
    "## Adding, removing, and sorting elements"
   ]
  },
  {
   "cell_type": "code",
   "execution_count": 5,
   "id": "6dac7d8f",
   "metadata": {},
   "outputs": [
    {
     "name": "stdout",
     "output_type": "stream",
     "text": [
      "[ 4  6  1 11  8  2]\n"
     ]
    }
   ],
   "source": [
    "# adding\n",
    "a = np.array([4,6,1])\n",
    "\n",
    "# add multiple valuesto the end of the array\n",
    "b = np.append(a, [11,8,2])\n",
    "print(b)"
   ]
  },
  {
   "cell_type": "code",
   "execution_count": 6,
   "id": "768628e5",
   "metadata": {},
   "outputs": [
    {
     "name": "stdout",
     "output_type": "stream",
     "text": [
      "[ 4  1 11  8  2]\n"
     ]
    }
   ],
   "source": [
    "# removing\n",
    "# remove the second element\n",
    "c = np.delete(b, 1)\n",
    "print(c)"
   ]
  },
  {
   "cell_type": "code",
   "execution_count": 7,
   "id": "7210c177",
   "metadata": {},
   "outputs": [
    {
     "name": "stdout",
     "output_type": "stream",
     "text": [
      "[ 1  2  4  6  8 11]\n"
     ]
    }
   ],
   "source": [
    "# sorting \n",
    "# sort array b\n",
    "d = np.sort(b)\n",
    "print(d)"
   ]
  },
  {
   "cell_type": "markdown",
   "id": "06953a59",
   "metadata": {},
   "source": [
    "## shape and size of an array"
   ]
  },
  {
   "cell_type": "code",
   "execution_count": 12,
   "id": "deed872c",
   "metadata": {},
   "outputs": [
    {
     "name": "stdout",
     "output_type": "stream",
     "text": [
      "dimension of x3: 3\n",
      "shape of x3: (1, 3, 3)\n",
      "size of x3: 9\n"
     ]
    }
   ],
   "source": [
    "# Let's take the example of ndarray x3\n",
    "print(f\"dimension of x3: {x3.ndim}\")\n",
    "print(f\"shape of x3: {x3.shape}\")\n",
    "print(f\"size of x3: {x3.size}\")"
   ]
  },
  {
   "cell_type": "markdown",
   "id": "cc835d32",
   "metadata": {},
   "source": [
    "## Reshaping an array"
   ]
  },
  {
   "cell_type": "code",
   "execution_count": null,
   "id": "be8597bd",
   "metadata": {},
   "outputs": [],
   "source": []
  }
 ],
 "metadata": {
  "kernelspec": {
   "display_name": "Python 3 (ipykernel)",
   "language": "python",
   "name": "python3"
  },
  "language_info": {
   "codemirror_mode": {
    "name": "ipython",
    "version": 3
   },
   "file_extension": ".py",
   "mimetype": "text/x-python",
   "name": "python",
   "nbconvert_exporter": "python",
   "pygments_lexer": "ipython3",
   "version": "3.10.9"
  }
 },
 "nbformat": 4,
 "nbformat_minor": 5
}
