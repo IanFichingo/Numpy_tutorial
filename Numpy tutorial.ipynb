{
 "cells": [
  {
   "cell_type": "markdown",
   "id": "5ae0facf",
   "metadata": {},
   "source": [
    "## Creating Basic Arrays"
   ]
  },
  {
   "cell_type": "code",
   "execution_count": 2,
   "id": "218085aa",
   "metadata": {},
   "outputs": [],
   "source": [
    "# import the numpy library\n",
    "import numpy as np"
   ]
  },
  {
   "cell_type": "code",
   "execution_count": 2,
   "id": "e8e47912",
   "metadata": {},
   "outputs": [
    {
     "name": "stdout",
     "output_type": "stream",
     "text": [
      "[3 4 5]\n"
     ]
    }
   ],
   "source": [
    "# 1d array\n",
    "x1 = np.array([3,4,5])\n",
    "print(x1)"
   ]
  },
  {
   "cell_type": "code",
   "execution_count": 3,
   "id": "e1022780",
   "metadata": {},
   "outputs": [
    {
     "name": "stdout",
     "output_type": "stream",
     "text": [
      "[[3 4 5]\n",
      " [6 7 8]]\n"
     ]
    }
   ],
   "source": [
    "# 2d array\n",
    "x2 = np.array([[3,4,5], [6,7,8]])\n",
    "print(x2)"
   ]
  },
  {
   "cell_type": "code",
   "execution_count": 11,
   "id": "8ea343c8",
   "metadata": {},
   "outputs": [
    {
     "name": "stdout",
     "output_type": "stream",
     "text": [
      "[[[ 3  4  5]\n",
      "  [ 6  7  8]\n",
      "  [ 9 10 11]]]\n"
     ]
    }
   ],
   "source": [
    "# 3d array\n",
    "x3 = np.array([[[3,4,5], [6,7,8], [9,10,11]]])\n",
    "print(x3)"
   ]
  },
  {
   "cell_type": "markdown",
   "id": "79d4b463",
   "metadata": {},
   "source": [
    "## Adding, removing, and sorting elements"
   ]
  },
  {
   "cell_type": "code",
   "execution_count": 5,
   "id": "6dac7d8f",
   "metadata": {},
   "outputs": [
    {
     "name": "stdout",
     "output_type": "stream",
     "text": [
      "[ 4  6  1 11  8  2]\n"
     ]
    }
   ],
   "source": [
    "# adding\n",
    "a = np.array([4,6,1])\n",
    "\n",
    "# add multiple valuesto the end of the array\n",
    "b = np.append(a, [11,8,2])\n",
    "print(b)"
   ]
  },
  {
   "cell_type": "code",
   "execution_count": 6,
   "id": "768628e5",
   "metadata": {},
   "outputs": [
    {
     "name": "stdout",
     "output_type": "stream",
     "text": [
      "[ 4  1 11  8  2]\n"
     ]
    }
   ],
   "source": [
    "# removing\n",
    "# remove the second element\n",
    "c = np.delete(b, 1)\n",
    "print(c)"
   ]
  },
  {
   "cell_type": "code",
   "execution_count": 7,
   "id": "7210c177",
   "metadata": {},
   "outputs": [
    {
     "name": "stdout",
     "output_type": "stream",
     "text": [
      "[ 1  2  4  6  8 11]\n"
     ]
    }
   ],
   "source": [
    "# sorting \n",
    "# sort array b\n",
    "d = np.sort(b)\n",
    "print(d)"
   ]
  },
  {
   "cell_type": "markdown",
   "id": "06953a59",
   "metadata": {},
   "source": [
    "## shape and size of an array"
   ]
  },
  {
   "cell_type": "code",
   "execution_count": 12,
   "id": "deed872c",
   "metadata": {},
   "outputs": [
    {
     "name": "stdout",
     "output_type": "stream",
     "text": [
      "dimension of x3: 3\n",
      "shape of x3: (1, 3, 3)\n",
      "size of x3: 9\n"
     ]
    }
   ],
   "source": [
    "# Let's take the example of ndarray x3\n",
    "print(f\"dimension of x3: {x3.ndim}\")\n",
    "print(f\"shape of x3: {x3.shape}\")\n",
    "print(f\"size of x3: {x3.size}\")"
   ]
  },
  {
   "cell_type": "markdown",
   "id": "fa2b9511",
   "metadata": {},
   "source": [
    "## Reshaping an array"
   ]
  },
  {
   "cell_type": "code",
   "execution_count": 8,
   "id": "6e50be65",
   "metadata": {},
   "outputs": [
    {
     "name": "stdout",
     "output_type": "stream",
     "text": [
      "[[ 5  6  7]\n",
      " [ 8  9 10]\n",
      " [ 5  6  1]]\n"
     ]
    }
   ],
   "source": [
    "# reshape to (3,3)\n",
    "x4 = np.array([5,6,7,8,9,10,5,6,1])\n",
    "\n",
    "x5 = x4.reshape(3,3)\n",
    "print(x5)"
   ]
  },
  {
   "cell_type": "markdown",
   "id": "31629bc8",
   "metadata": {},
   "source": [
    "## Converting a 1D array into a 2D array"
   ]
  },
  {
   "cell_type": "code",
   "execution_count": 10,
   "id": "97f5a568",
   "metadata": {},
   "outputs": [
    {
     "name": "stdout",
     "output_type": "stream",
     "text": [
      "shape of x4: (9,)\n",
      "shape of x7: (1, 9)\n"
     ]
    }
   ],
   "source": [
    "# x4 is a 1d array\n",
    "# we convert to 2d array\n",
    "print(f\"shape of x4: {x4.shape}\")\n",
    "\n",
    "x7 = x4[np.newaxis, :]\n",
    "print(f\"shape of x7: {x7.shape}\")"
   ]
  },
  {
   "cell_type": "markdown",
   "id": "22614caa",
   "metadata": {},
   "source": [
    "## Indexing and Slicing"
   ]
  },
  {
   "cell_type": "code",
   "execution_count": 13,
   "id": "6ceff534",
   "metadata": {},
   "outputs": [
    {
     "name": "stdout",
     "output_type": "stream",
     "text": [
      "get the second element: 6\n",
      "get the last element: 1\n",
      "get elements btwn 2nd and 4th: [6 7]\n"
     ]
    }
   ],
   "source": [
    "# we index and slice x4\n",
    "print(f\"get the second element: {x4[1]}\")\n",
    "print(f\"get the last element: {x4[-1]}\")\n",
    "print(f\"get elements btwn 2nd and 4th: {x4[1:3]}\") # slicing"
   ]
  },
  {
   "cell_type": "markdown",
   "id": "c0bc4f45",
   "metadata": {},
   "source": [
    "## Creating an array from existing data"
   ]
  },
  {
   "cell_type": "code",
   "execution_count": 11,
   "id": "46dec511",
   "metadata": {},
   "outputs": [
    {
     "data": {
      "text/plain": [
       "array([[1, 2, 5],\n",
       "       [8, 6, 8],\n",
       "       [6, 5, 3],\n",
       "       [3, 3, 1]])"
      ]
     },
     "execution_count": 11,
     "metadata": {},
     "output_type": "execute_result"
    }
   ],
   "source": [
    "# create a new array from two arrays\n",
    "a1 = np.array([[1,2,5],\n",
    "               [8,6,8]])\n",
    "               \n",
    "a2 = np.array([[6,5,3],\n",
    "               [3,3,1]])\n",
    "\n",
    "# using vstack to stack them vertically\n",
    "np.vstack((a1, a2))"
   ]
  },
  {
   "cell_type": "code",
   "execution_count": 12,
   "id": "6b11e7e2",
   "metadata": {},
   "outputs": [
    {
     "data": {
      "text/plain": [
       "array([[1, 2, 3, 6, 5, 3],\n",
       "       [8, 6, 3, 3, 3, 1]])"
      ]
     },
     "execution_count": 12,
     "metadata": {},
     "output_type": "execute_result"
    }
   ],
   "source": [
    "# stacking them horizontal\n",
    "a1 = np.array([[1,2,3],\n",
    "               [8,6,3]])\n",
    "               \n",
    "a2 = np.array([[6,5,3],\n",
    "               [3,3,1]])\n",
    "\n",
    "np.hstack((a1, a2))"
   ]
  },
  {
   "cell_type": "markdown",
   "id": "157a9dff",
   "metadata": {},
   "source": [
    "## Basic Operations"
   ]
  },
  {
   "cell_type": "code",
   "execution_count": 13,
   "id": "21cf581a",
   "metadata": {},
   "outputs": [
    {
     "name": "stdout",
     "output_type": "stream",
     "text": [
      "addition: [14  6  8]\n",
      "subtraction: [5 1 2]\n",
      "multiplication: [14  6  8]\n",
      "Division: [3.5 1.5 2. ]\n"
     ]
    }
   ],
   "source": [
    "# 2 example arrays\n",
    "y1 = np.array([7,3,4])\n",
    "y2 = np.array([2,2,2])\n",
    "\n",
    "print(f\"addition: {y1+y1}\") \n",
    "print(f\"subtraction: {y1-y2}\")\n",
    "print(f\"multiplication: {y1*y2}\")\n",
    "print(f\"Division: {y1/y2}\")"
   ]
  },
  {
   "cell_type": "markdown",
   "id": "b5b6a19b",
   "metadata": {},
   "source": [
    "## Broadcasting"
   ]
  },
  {
   "cell_type": "code",
   "execution_count": 15,
   "id": "0d6fe831",
   "metadata": {},
   "outputs": [
    {
     "name": "stdout",
     "output_type": "stream",
     "text": [
      "multiplication by a scalar: [[20 32 24]\n",
      " [ 8 24 36]]\n",
      "maximum: 9\n",
      "minimum: 2\n",
      "addition: 36\n"
     ]
    }
   ],
   "source": [
    "# create a matrix\n",
    "y3 = np.array([[5,8,6],\n",
    "              [2,6,9]])\n",
    "\n",
    "print(f\"multiplication by a scalar: {y3*4}\")\n",
    "print(f\"maximum: {y3.max()}\")\n",
    "print(f\"minimum: {y3.min()}\")\n",
    "print(f\"addition: {y3.sum()}\")"
   ]
  },
  {
   "cell_type": "markdown",
   "id": "99142cdb",
   "metadata": {},
   "source": [
    "## Creating Matrices"
   ]
  },
  {
   "cell_type": "code",
   "execution_count": 4,
   "id": "50aca673",
   "metadata": {},
   "outputs": [
    {
     "name": "stdout",
     "output_type": "stream",
     "text": [
      "[[[ 1  6  5]\n",
      "  [ 4  5 13]]\n",
      "\n",
      " [[ 1  1  1]\n",
      "  [13  6 98]]]\n"
     ]
    }
   ],
   "source": [
    "# creating a 3D matrix\n",
    "m1 = np.array([[[1, 6, 5], [4, 5, 13]], [[1, 1, 1], [13, 6, 98]]])\n",
    "print(m1)"
   ]
  },
  {
   "cell_type": "markdown",
   "id": "844e95b1",
   "metadata": {},
   "source": [
    "## Getting Unique items and counts"
   ]
  },
  {
   "cell_type": "code",
   "execution_count": 7,
   "id": "2f0b0045",
   "metadata": {},
   "outputs": [
    {
     "name": "stdout",
     "output_type": "stream",
     "text": [
      "unique values: [1 2 3 4 6 7]\n",
      "value counts: (array([1, 2, 3, 4, 6, 7]), array([2, 1, 1, 3, 1, 1], dtype=int64))\n"
     ]
    }
   ],
   "source": [
    "# consider this array\n",
    "m2 = np.array([7,4,4,4,1,1,2,3,6])\n",
    "\n",
    "#getting unique values/items\n",
    "print(f\"unique values: {np.unique(m2)}\")\n",
    "\n",
    "# get value counts\n",
    "print(f\"value counts: {np.unique(m2, return_counts=True)}\")"
   ]
  },
  {
   "cell_type": "markdown",
   "id": "43bd1df1",
   "metadata": {},
   "source": [
    "## Transposing and reshaping a matrix"
   ]
  },
  {
   "cell_type": "code",
   "execution_count": 11,
   "id": "687885d3",
   "metadata": {},
   "outputs": [
    {
     "name": "stdout",
     "output_type": "stream",
     "text": [
      "[[  2   8  10]\n",
      " [  2 105  99]]\n"
     ]
    }
   ],
   "source": [
    "# consider this array\n",
    "m3 = np.array([2,8,10,2,105,99])\n",
    "\n",
    "# reshape\n",
    "print(m3.reshape((2,3)))"
   ]
  },
  {
   "cell_type": "code",
   "execution_count": 12,
   "id": "7a15fb9f",
   "metadata": {},
   "outputs": [
    {
     "name": "stdout",
     "output_type": "stream",
     "text": [
      "[[  2   2]\n",
      " [  8 105]\n",
      " [ 10  99]]\n"
     ]
    }
   ],
   "source": [
    "# transpose\n",
    "print(m3.reshape((2,3)).T)"
   ]
  }
 ],
 "metadata": {
  "kernelspec": {
   "display_name": "Python 3 (ipykernel)",
   "language": "python",
   "name": "python3"
  },
  "language_info": {
   "codemirror_mode": {
    "name": "ipython",
    "version": 3
   },
   "file_extension": ".py",
   "mimetype": "text/x-python",
   "name": "python",
   "nbconvert_exporter": "python",
   "pygments_lexer": "ipython3",
   "version": "3.10.9"
  }
 },
 "nbformat": 4,
 "nbformat_minor": 5
}
